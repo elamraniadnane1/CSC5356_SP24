{
 "cells": [
  {
   "cell_type": "markdown",
   "id": "646b768e-78a0-4c05-bc05-b0676196a67a",
   "metadata": {},
   "source": [
    "import tensorflow_data_validation as tfdv\n",
    "from transformers import AutoTokenizer\n",
    "import pandas as pd\n",
    "\n",
    "# Define the path to the model files and the CSV file\n",
    "CSV_FILE_PATH = '/home/dino/Desktop/SP24/scripts/biden_stance_public_2_labeled.csv'\n",
    "pretrained_LM_path = '/home/dino/Desktop/SP24/bert-election2020-twitter-stance-biden'\n",
    "\n",
    "# Load the tokenizer\n",
    "tokenizer = AutoTokenizer.from_pretrained(pretrained_LM_path)\n",
    "\n",
    "# Load the CSV file\n",
    "df = pd.read_csv(CSV_FILE_PATH)\n",
    "\n",
    "# Generate statistics for the dataset\n",
    "train_stats = tfdv.generate_statistics_from_dataframe(df)\n",
    "\n",
    "# Infer a schema\n",
    "schema = tfdv.infer_schema(train_stats)\n",
    "\n",
    "# Display the inferred schema\n",
    "tfdv.display_schema(schema)\n",
    "\n",
    "tfdv.visualize_statistics(train_stats)"
   ]
  },
  {
   "cell_type": "code",
   "execution_count": null,
   "id": "f35b6cdf-ed1d-4118-bd1d-f9d706955873",
   "metadata": {},
   "outputs": [],
   "source": []
  }
 ],
 "metadata": {
  "kernelspec": {
   "display_name": "Python 3 (ipykernel)",
   "language": "python",
   "name": "python3"
  },
  "language_info": {
   "name": ""
  }
 },
 "nbformat": 4,
 "nbformat_minor": 5
}
